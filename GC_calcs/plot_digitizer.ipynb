{
 "cells": [
  {
   "cell_type": "code",
   "execution_count": 1,
   "metadata": {},
   "outputs": [],
   "source": [
    "import matplotlib.pyplot as plt\n",
    "import matplotlib.image as img\n",
    "import numpy as np\n"
   ]
  },
  {
   "cell_type": "code",
   "execution_count": 7,
   "metadata": {},
   "outputs": [],
   "source": [
    "## Digitize the scale ##\n",
    "scale_min = -3.301 # Minimum value of the scale (log10)\n",
    "scale_max = -0.398  # Maximum value of the scale\n",
    "n_bins = 200 # Number of color bins\n",
    "\n",
    "palette_x = np.linspace(scale_min, scale_max, 2*n_bins+1)[1::2]\n",
    "palette_clr = []\n",
    "\n",
    "img_data = img.imread(\"gc_data/eres_scale.png\")\n",
    "img_size_y, img_size_x = img_data.shape[:2]\n",
    "\n",
    "dy = img_size_y / n_bins\n",
    "for iy in range(n_bins)[::-1]:\n",
    "    c = img_data[int(np.round((iy+0.5)*dy)), int(np.round(0.5*img_size_x))] # find color at center of this pixel\n",
    "    palette_clr.append(c)\n",
    "\n",
    "## Digitize the covariance matrix ##\n",
    "n_bins_x  = 200\n",
    "n_bins_y = 200\n",
    "\n",
    "my_data = np.zeros((n_bins_x, n_bins_y))\n",
    "\n",
    "img_data = img.imread('gc_data/eres.png')\n",
    "img_size_y, img_size_x = img_data.shape[:2]\n",
    "dx = img_size_x / n_bins_x\n",
    "dy = img_size_y / n_bins_y\n",
    "\n",
    "for ix in range(n_bins_x):       # loops over all pixels in the extracted data\n",
    "    for iy in range(n_bins_y):\n",
    "        c = img_data[int(np.round((iy+0.5)*dy)), int(np.round((ix+0.5)*dx))] # find color at center of this pixel\n",
    "        if abs(np.sum(c**2) - 4) < 1e-4: # Blank = 0\n",
    "            my_data[ix, n_bins_y-1-iy] = 0\n",
    "        elif abs(np.sum(c**2)) < 1e-4:\n",
    "            my_data[ix, n_bins_y-1-iy] = 0\n",
    "        else:\n",
    "            ic = np.argmin( np.sum((c[None,:] - palette_clr)**2, axis=1) )         # find closest color in palette\n",
    "            my_data[ix, n_bins_y-1-iy] = palette_x[ic]\n",
    "\n",
    "np.savetxt(\"eres_matrix.dat\", my_data)"
   ]
  }
 ],
 "metadata": {
  "kernelspec": {
   "display_name": "Python 3.11.1 64-bit",
   "language": "python",
   "name": "python3"
  },
  "language_info": {
   "codemirror_mode": {
    "name": "ipython",
    "version": 3
   },
   "file_extension": ".py",
   "mimetype": "text/x-python",
   "name": "python",
   "nbconvert_exporter": "python",
   "pygments_lexer": "ipython3",
   "version": "3.11.1"
  },
  "orig_nbformat": 4,
  "vscode": {
   "interpreter": {
    "hash": "aee8b7b246df8f9039afb4144a1f6fd8d2ca17a180786b69acc140d282b71a49"
   }
  }
 },
 "nbformat": 4,
 "nbformat_minor": 2
}
