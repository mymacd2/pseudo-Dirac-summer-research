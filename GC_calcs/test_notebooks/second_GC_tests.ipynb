{
 "cells": [
  {
   "cell_type": "code",
   "execution_count": 11,
   "metadata": {},
   "outputs": [],
   "source": [
    "# Libraries, parameters\n",
    "\n",
    "import numpy as np\n",
    "import matplotlib.pyplot as plt\n",
    "import pandas as pd\n",
    "from scipy.stats import norm\n",
    "from scipy.integrate import quad\n",
    "from scipy.interpolate import interp1d, interpn, RegularGridInterpolator\n",
    "from scipy.signal import fftconvolve\n",
    "from scipy.stats import poisson\n",
    "from scipy.optimize import minimize\n",
    "import math\n",
    "\n",
    "# Norms for the PMNS matrix squared:\n",
    "u_e = [0, 0.674743, 0.302844, 0.0224125]\n",
    "u_m = [0, 0.0946105, 0.360415, 0.544974]\n",
    "u_t = [0, 0.230646, 0.33674,  0.432613]\n",
    "\n",
    "\n",
    "# Conversion factor to go from kpc to 1/eV\n",
    "conv_factor = 3.086e19 * 5.06773093741 * 1e6\n",
    "\n",
    "# Conversion factor to go from kpc to m\n",
    "kpctom = 3.086e19\n",
    "kpctocm = 3.086e22\n",
    "\n",
    "# More parameters:\n",
    "phi0 = 100 # TeV^-1 cm^-2 s^-1, completely random, will be able to calculate this directly I think\n",
    "e0 = 1 # TeV\n",
    "index = 2.0 # Completely random, not sure how to calculate this exactly\n",
    "width = 0.1 # In log10 scale, for cascade-like events, this is being not generous\n",
    "\n",
    "# del_m2\n",
    "dm2s = (0, 0, 0)\n",
    "\n",
    "base = 10"
   ]
  },
  {
   "cell_type": "code",
   "execution_count": 2,
   "metadata": {},
   "outputs": [],
   "source": [
    "# Download model and effective area\n",
    "\n",
    "eff_a = pd.read_csv('EffA_GC_approx.csv').values\n",
    "model_1 = np.loadtxt(\"second_GC_model.txt\", comments=\"#\", unpack=False)"
   ]
  },
  {
   "cell_type": "code",
   "execution_count": 20,
   "metadata": {},
   "outputs": [],
   "source": [
    "num_nu = int(model_1.size/30)\n",
    "\n",
    "positions = np.column_stack((model_1[:, 23], model_1[:, 24], model_1[:, 25]))\n",
    "\n",
    "bin_size=0.3\n",
    "num_xbins, num_ybins, num_zbins = int(60/bin_size), int(60/bin_size), int(30/bin_size)\n",
    "H, edges = np.histogramdd(positions, bins=(num_xbins, num_ybins, num_zbins), range=[(-30, 30), (-30, 30), (-3, 3)])\n",
    "\n",
    "prob_dens_dist = np.divide(H, num_nu*(bin_size**2)*(5*bin_size))\n",
    "\n",
    "x = np.linspace(-30, 30, num_xbins)\n",
    "y = np.linspace(-30, 30, num_ybins)\n",
    "z = np.linspace(-3, 3, num_zbins)\n",
    "interp = RegularGridInterpolator((x, y, z), prob_dens_dist, method='linear', bounds_error=False, fill_value=0)"
   ]
  },
  {
   "cell_type": "code",
   "execution_count": 13,
   "metadata": {},
   "outputs": [
    {
     "data": {
      "text/plain": [
       "0.004187800796100576"
      ]
     },
     "execution_count": 13,
     "metadata": {},
     "output_type": "execute_result"
    }
   ],
   "source": [
    "# Some core function definitions:\n",
    "\n",
    "# l_eff per particle, in kpc:\n",
    "\n",
    "def Leff(x, y, z):\n",
    "    return np.sqrt((8-x)**2 + y**2 + z**2)\n",
    "\n",
    "# Oscillation probability: Prob of oscillating into an electron neutrino (still assuming 1:2:0 flavor dist at source)\n",
    "# Energy in TeV\n",
    "\n",
    "def OscProb(dm2s, e_true, l_eff):\n",
    "\n",
    "    l_eff = l_eff*conv_factor\n",
    "\n",
    "    osc1 = (np.cos((dm2s[0] * l_eff)/(4*e_true*1e12)))**2\n",
    "    osc2 = (np.cos((dm2s[1] * l_eff)/(4*e_true*1e12)))**2\n",
    "    osc3 = (np.cos((dm2s[2] * l_eff)/(4*e_true*1e12)))**2\n",
    "\n",
    "    prob_surv = osc1*(u_e[1]*u_e[1]) + osc2*(u_e[2]*u_e[2]) + osc3*(u_e[3]*u_e[3])\n",
    "    prob_mue = osc1*(u_e[1]*u_m[1]) + osc2*(u_e[2]*u_m[2]) + osc3*(u_e[3]*u_m[3])\n",
    "    prob_e = 0.666666*prob_mue + 0.333333*prob_surv \n",
    "\n",
    "    return prob_e\n",
    "\n",
    "\n",
    "# Effective Area [cm^2]\n",
    "\n",
    "x, y = [], []\n",
    "for i in range(len(eff_a)):\n",
    "    x.append(eff_a[i][0])\n",
    "    y.append(eff_a[i][1])\n",
    "f = interp1d(x, y, bounds_error=False, fill_value=\"extrapolate\")\n",
    "# f = interp1d(x, y)\n",
    "# f = interp1d(x, y, bounds_error=False, fill_value=0)\n",
    "\n",
    "def EffA(e_true):\n",
    "# if (e_true >= eff_a[0][0] and e_true <= eff_a[len(eff_a)-1][0]):\n",
    "    effa = 10000*f(e_true)\n",
    "    return effa\n",
    "\n",
    "\n",
    "# Flux function [kpc^-3]:\n",
    "\n",
    "def Flux(e_true, x, y, z):\n",
    "    return (interp([x, y, z]))*phi0*(e_true/e0)**(-index)\n",
    "\n",
    "flux = np.vectorize(Flux, excluded=['x', 'y', 'z'])\n",
    "vecflux = np.vectorize(Flux)\n",
    "\n",
    "#Galactic coords to (x, y, z) centered at the galactic center\n",
    "\n",
    "def Cartesian(r, l, b):\n",
    "    # r, l, b = coords[0], coords[1], coords[2]\n",
    "    x = 8 - r*np.cos(l)*np.cos(b)\n",
    "    y = r*np.sin(l)*np.cos(b)\n",
    "    z = r*np.sin(b)\n",
    "    return [x, y, z]\n",
    "\n",
    "def Cartx(r, l, b):\n",
    "    x = 8 - r*np.cos(l)*np.cos(b)\n",
    "    return x \n",
    "\n",
    "def Carty(r, l, b):\n",
    "    y = r*np.sin(l)*np.cos(b)\n",
    "    return y\n",
    "\n",
    "def Cartz(r, l, b):\n",
    "    z = r*np.sin(b)\n",
    "    return z"
   ]
  }
 ],
 "metadata": {
  "kernelspec": {
   "display_name": "Python 3.11.1 64-bit",
   "language": "python",
   "name": "python3"
  },
  "language_info": {
   "codemirror_mode": {
    "name": "ipython",
    "version": 3
   },
   "file_extension": ".py",
   "mimetype": "text/x-python",
   "name": "python",
   "nbconvert_exporter": "python",
   "pygments_lexer": "ipython3",
   "version": "3.11.1"
  },
  "orig_nbformat": 4,
  "vscode": {
   "interpreter": {
    "hash": "aee8b7b246df8f9039afb4144a1f6fd8d2ca17a180786b69acc140d282b71a49"
   }
  }
 },
 "nbformat": 4,
 "nbformat_minor": 2
}
