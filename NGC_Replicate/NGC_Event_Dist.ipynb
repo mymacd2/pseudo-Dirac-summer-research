{
 "cells": [
  {
   "cell_type": "code",
   "execution_count": 134,
   "metadata": {},
   "outputs": [],
   "source": [
    "import numpy as np\n",
    "import matplotlib.pyplot as plt\n",
    "import pandas as pd\n",
    "from scipy.stats import norm\n",
    "from scipy.integrate import quad, dblquad\n",
    "from scipy.interpolate import interp1d\n",
    "\n",
    "# Norms for the PMNS matrix squared:\n",
    "u_e = [0, 0.674743, 0.302844, 0.0224125]\n",
    "u_m = [0, 0.0946105, 0.360415, 0.544974]\n",
    "u_t = [0, 0.230646, 0.33674,  0.432613]\n",
    "\n",
    "\n",
    "# Effective distance traveled in 1oeV:\n",
    "l_eff = 4.4434e23 * 5.06773093741 * 1e6\n",
    "\n",
    "# Importing hypotheses and bin edges\n",
    "hypotheses = pd.read_csv('hypotheses.csv')\n",
    "bin_edges = pd.read_csv('bin_edges.csv')\n",
    "\n",
    "# labeling stuff\n",
    "hypotheses.columns = ['null', 'alt_1', 'alt_2']\n",
    "bin_edges.columns = ['energy']\n",
    "frames = [bin_edges, hypotheses]\n",
    "ngc_chart = pd.concat(frames, axis=1)\n",
    "\n",
    "# Importing effective area data:\n",
    "eff_a = np.loadtxt('effA_-5to30.dat')\n",
    "\n",
    "# Limits of energy bins in the effective area data:\n",
    "e_min = 1e-1\n",
    "e_max = 7.94328e5\n",
    "\n",
    "# More parameters:\n",
    "phi0 = 5e-11 * 275270400 # TeV^-1 cm^-2 over 3168 days\n",
    "e0 = 1 # TeV\n",
    "index = 3.2 # Taken from NGC paper\n",
    "width = 0.3 # In log10 scale, for track-like events\n",
    "\n",
    "# del_m2\n",
    "del_m2 = 0\n",
    "\n",
    "base = 10"
   ]
  },
  {
   "cell_type": "code",
   "execution_count": 136,
   "metadata": {},
   "outputs": [],
   "source": [
    "def TrueIntegrand(e_true, e_reco, del_m2):\n",
    "\n",
    "    flux = (e_true/e0)**(-index)\n",
    "\n",
    "    log_gauss = norm.pdf(np.emath.logn(base, e_true), np.emath.logn(base, e_reco), 0.3)\n",
    "    \n",
    "    # Finding the appropriate effective energy for the given true energy\n",
    "    x = eff_a[:,0]\n",
    "    y = eff_a[:,4]\n",
    "    f = interp1d(x, y)\n",
    "    effa = 10000*f(e_true) # cm^2, in data set as m^2\n",
    "\n",
    "    # Calculating probability that the neutrino will be a muon neutrino (change e_true to eV): \n",
    "    osc = (np.cos((del_m2 * l_eff)/(4*e_true*1e12)))**2\n",
    "    prob_surv = osc * ((u_m[1]*u_m[1]) + (u_m[2]*u_m[2]) + (u_m[3]*u_m[3]))\n",
    "    prob_emu = osc * ((u_e[1]*u_m[1]) + (u_e[2]*u_m[2]) + (u_e[3]*u_m[3]))\n",
    "    prob_mu = 0.666666*prob_surv + 0.333333*prob_emu \n",
    "   \n",
    "    jacobian = (e_true*np.log(base))**(-1)\n",
    "    log_integrand = jacobian*log_gauss*flux*effa*prob_mu\n",
    "\n",
    "    # print(f\"flux: {flux}\")\n",
    "    # print(f\"effa: {effa}\")\n",
    "    # print(f\"prob_mu: {prob_mu}\")\n",
    "    # print(f\"jacobian: {jacobian}\")\n",
    "    # print(f\"log_integrand: {log_integrand}\")\n",
    "    \n",
    "    return log_integrand\n",
    "\n",
    "\n",
    "\n",
    "def RecoIntegrand(e_reco, del_m2):\n",
    "    # lower_bound = max(e_min, e_reco-5*np.power(base, 0.3))\n",
    "    # upper_bound = min(e_max, e_reco+5*np.power(base, 0.3))\n",
    "    lower_bound = max(e_min, e_reco-5*np.power(10, 0.3))\n",
    "    upper_bound = min(e_max, e_reco+5*np.power(10, 0.3))\n",
    "    true_int = quad(TrueIntegrand, lower_bound, upper_bound, args=(e_reco, del_m2), limit=50, epsabs=0.5)\n",
    "    return 3*phi0*true_int[0]\n",
    "\n",
    "def RecoInt(e_start, e_end, del_m2):\n",
    "    return quad(RecoIntegrand, e_start, e_end, args=(del_m2, ), limit=50, epsabs=0.5)[0]\n",
    "\n",
    "def Integral(e_start, e_end, del_m2):\n",
    "    int = dblquad(TrueIntegrand, e_start, e_end, lambda y: y-5*np.power(base, 0.3), lambda y: y+5*np.power(base, 0.3), args=(del_m2, ), epsabs=0.5)\n",
    "    return int[0]\n",
    "\n"
   ]
  },
  {
   "cell_type": "code",
   "execution_count": 131,
   "metadata": {},
   "outputs": [
    {
     "name": "stdout",
     "output_type": "stream",
     "text": [
      "effa: 4060750.0\n",
      "2.0753414651821498e-07\n"
     ]
    }
   ],
   "source": [
    "# test = Integral(1, 1.122, 0)\n",
    "# print(test)\n",
    "# test1 = RecoInt(1, 1.12, 0)\n",
    "# print(test1)\n",
    "# test2 = TrueIntegrand(1000, 1000, 0)\n",
    "# test3 = RecoIntegrand(1, 0)\n",
    "print(test2)\n"
   ]
  },
  {
   "cell_type": "code",
   "execution_count": 138,
   "metadata": {},
   "outputs": [],
   "source": [
    "int_approx = []\n",
    "for i in range(len(ngc_chart['energy']) - 1):\n",
    "    e_t = ngc_chart['energy'][i]\n",
    "    e_t_next = ngc_chart['energy'][i+1]\n",
    "    int_approx.append(RecoIntegrand(e_t, 0)*(e_t_next-e_t))\n",
    "int_approx.append(0)\n",
    "\n",
    "\n",
    "\n"
   ]
  },
  {
   "cell_type": "code",
   "execution_count": 139,
   "metadata": {},
   "outputs": [
    {
     "data": {
      "image/png": "[encoded data removed]",
      "text/plain": [
       "<Figure size 640x480 with 1 Axes>"
      ]
     },
     "metadata": {},
     "output_type": "display_data"
    }
   ],
   "source": [
    "fig, ax = plt.subplots()\n",
    "null, = ax.step(ngc_chart['energy'], ngc_chart['null'])\n",
    "hyp_178, = ax.step(ngc_chart['energy'], int_approx)\n",
    "ax.set_xscale('log')\n",
    "ax.set_xticks([10**-1, 10**0, 10**1, 10**2])\n",
    "ax.set_xlabel(r\"$E_{\\nu}$ (reco) [TeV]\")\n",
    "ax.set_ylabel(r\"# of events\")\n",
    "ax.set_title(r\"$\\delta m^2 = 0$ eV$^2$\", loc=\"left\")\n",
    "ax.set_title(r\"Event Distribution\", loc=\"right\")\n",
    "plt.show()"
   ]
  }
 ],
 "metadata": {
  "kernelspec": {
   "display_name": "Python 3.11.1 64-bit",
   "language": "python",
   "name": "python3"
  },
  "language_info": {
   "codemirror_mode": {
    "name": "ipython",
    "version": 3
   },
   "file_extension": ".py",
   "mimetype": "text/x-python",
   "name": "python",
   "nbconvert_exporter": "python",
   "pygments_lexer": "ipython3",
   "version": "3.11.1"
  },
  "orig_nbformat": 4,
  "vscode": {
   "interpreter": {
    "hash": "aee8b7b246df8f9039afb4144a1f6fd8d2ca17a180786b69acc140d282b71a49"
   }
  }
 },
 "nbformat": 4,
 "nbformat_minor": 2
}
